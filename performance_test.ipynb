{
 "cells": [
  {
   "cell_type": "markdown",
   "metadata": {},
   "source": [
    "## imports e defs"
   ]
  },
  {
   "cell_type": "code",
   "execution_count": 28,
   "metadata": {},
   "outputs": [],
   "source": [
    "from SPARQLWrapper import SPARQLWrapper, JSON\n",
    "import time\n",
    "import pandas as pd\n",
    "import datetime"
   ]
  },
  {
   "cell_type": "code",
   "execution_count": 3,
   "metadata": {},
   "outputs": [],
   "source": [
    "ENDPOINT = \"http://10.33.96.18:7200/repositories/GRAFO_SEFAZMA_PRODUCAO\"\n",
    "sparql = SPARQLWrapper(ENDPOINT)"
   ]
  },
  {
   "cell_type": "code",
   "execution_count": 29,
   "metadata": {},
   "outputs": [],
   "source": [
    "def execute(query,sparql=sparql):\n",
    "    start_time = time.time()\n",
    "    try:\n",
    "        print(f\"Executando consulta em {datetime.datetime.now()}:\\n\\n{query}\\n\\n-------------------------------------------------\")\n",
    "        sparql.setQuery(query)\n",
    "        sparql.setReturnFormat(JSON)\n",
    "        results = sparql.query().convert()\n",
    "        end_time = time.time()\n",
    "    except:\n",
    "        results = None\n",
    "    timeExecution = end_time - start_time\n",
    "    return timeExecution, results"
   ]
  },
  {
   "cell_type": "code",
   "execution_count": 5,
   "metadata": {},
   "outputs": [],
   "source": [
    "def size(r):\n",
    "    if r == None:\n",
    "        return 0\n",
    "    return len(r['results']['bindings'])"
   ]
  },
  {
   "cell_type": "markdown",
   "metadata": {},
   "source": [
    "## Tempo para pegar triplas genêricas?"
   ]
  },
  {
   "cell_type": "markdown",
   "metadata": {},
   "source": [
    "### código"
   ]
  },
  {
   "cell_type": "code",
   "execution_count": 30,
   "metadata": {},
   "outputs": [
    {
     "name": "stdout",
     "output_type": "stream",
     "text": [
      "Executando consulta em 2022-05-24 12:26:47.967089:\n",
      "\n",
      "\n",
      "select * where { \n",
      "\t?s ?p ?o .\n",
      "} limit 100 \n",
      "\n",
      "\n",
      "-------------------------------------------------\n"
     ]
    }
   ],
   "source": [
    "query= \"\"\"\n",
    "select * where { \n",
    "\t?s ?p ?o .\n",
    "} limit 100 \n",
    "\"\"\"\n",
    "t, r = execute(query)"
   ]
  },
  {
   "cell_type": "markdown",
   "metadata": {},
   "source": [
    "### resultado"
   ]
  },
  {
   "cell_type": "code",
   "execution_count": 25,
   "metadata": {},
   "outputs": [
    {
     "name": "stdout",
     "output_type": "stream",
     "text": [
      "pd0.csv salvo com sucesso!!!\n"
     ]
    },
    {
     "data": {
      "text/html": [
       "<div>\n",
       "<style scoped>\n",
       "    .dataframe tbody tr th:only-of-type {\n",
       "        vertical-align: middle;\n",
       "    }\n",
       "\n",
       "    .dataframe tbody tr th {\n",
       "        vertical-align: top;\n",
       "    }\n",
       "\n",
       "    .dataframe thead th {\n",
       "        text-align: right;\n",
       "    }\n",
       "</style>\n",
       "<table border=\"1\" class=\"dataframe\">\n",
       "  <thead>\n",
       "    <tr style=\"text-align: right;\">\n",
       "      <th></th>\n",
       "      <th>tempo</th>\n",
       "      <th>triplas</th>\n",
       "    </tr>\n",
       "  </thead>\n",
       "  <tbody>\n",
       "    <tr>\n",
       "      <th>0</th>\n",
       "      <td>1.209397</td>\n",
       "      <td>100</td>\n",
       "    </tr>\n",
       "  </tbody>\n",
       "</table>\n",
       "</div>"
      ],
      "text/plain": [
       "      tempo  triplas\n",
       "0  1.209397      100"
      ]
     },
     "execution_count": 25,
     "metadata": {},
     "output_type": "execute_result"
    }
   ],
   "source": [
    "pd_0 = pd.DataFrame([{'tempo':t,'triplas':size(r)}])\n",
    "pd_0.to_csv(\"pd0.csv\",index=False)\n",
    "print(\"pd0.csv salvo com sucesso!!!\")\n",
    "pd_0\n"
   ]
  },
  {
   "cell_type": "markdown",
   "metadata": {},
   "source": [
    "## Quantidade de classes:"
   ]
  },
  {
   "cell_type": "markdown",
   "metadata": {},
   "source": [
    "### código"
   ]
  },
  {
   "cell_type": "code",
   "execution_count": 8,
   "metadata": {},
   "outputs": [],
   "source": [
    "ENDPOINT_ONTOLGY = \"http://10.33.96.18:7200/repositories/ONTOLOGIA_DOMINIO\"\n",
    "sparql_ontology = SPARQLWrapper(ENDPOINT_ONTOLGY)"
   ]
  },
  {
   "cell_type": "code",
   "execution_count": 9,
   "metadata": {},
   "outputs": [
    {
     "name": "stdout",
     "output_type": "stream",
     "text": [
      "Consultando classes...\n"
     ]
    }
   ],
   "source": [
    "query= \"\"\"\n",
    "\t\tprefix owl: <http://www.w3.org/2002/07/owl#>\n",
    "        prefix rdfs: <http://www.w3.org/2000/01/rdf-schema#>\n",
    "        select ?class ?label where { \n",
    "            {\n",
    "                ?class a owl:Class.\n",
    "            }\n",
    "            UNION{\n",
    "                ?class a rdfs:Class.\n",
    "            }\n",
    "            OPTIONAL{?class rdfs:label ?l}\n",
    "            BIND(COALESCE(?l,?class) AS ?label)\n",
    "            FILTER(!CONTAINS(STR(?class),\"http://www.w3.org/2000/01/rdf-schema#\"))\n",
    "            FILTER(!CONTAINS(STR(?class),\"http://www.w3.org/2001/XMLSchema#\"))\n",
    "            FILTER(!CONTAINS(STR(?class),\"http://www.w3.org/1999/02/22-rdf-syntax-ns#\"))\n",
    "            FILTER(!CONTAINS(STR(?class),\"http://www.w3.org/2002/07/owl#\"))\n",
    "        } ORDER BY ?label  \n",
    "\"\"\"\n",
    "print(\"Consultando classes...\")\n",
    "t, r = execute(query,sparql=sparql_ontology)"
   ]
  },
  {
   "cell_type": "code",
   "execution_count": 10,
   "metadata": {},
   "outputs": [],
   "source": [
    "classes = []\n",
    "for result in r['results']['bindings']:\n",
    "    classes.append({'label': result['label']['value'],'uri':result['class']['value']})"
   ]
  },
  {
   "cell_type": "markdown",
   "metadata": {},
   "source": [
    "### Resultado"
   ]
  },
  {
   "cell_type": "code",
   "execution_count": 11,
   "metadata": {},
   "outputs": [
    {
     "name": "stdout",
     "output_type": "stream",
     "text": [
      "150\n"
     ]
    }
   ],
   "source": [
    "print(len(classes))"
   ]
  },
  {
   "cell_type": "markdown",
   "metadata": {},
   "source": [
    "## Tempo para recursos de cada classe"
   ]
  },
  {
   "cell_type": "markdown",
   "metadata": {},
   "source": [
    "### código"
   ]
  },
  {
   "cell_type": "code",
   "execution_count": 16,
   "metadata": {},
   "outputs": [
    {
     "name": "stdout",
     "output_type": "stream",
     "text": [
      "Executando consulta:\n",
      "\n",
      "\n",
      "            prefix owl: <http://www.w3.org/2002/07/owl#>\n",
      "            prefix rdfs: <http://www.w3.org/2000/01/rdf-schema#>\n",
      "            select * where { \n",
      "                ?s a <http://www.sefaz.ma.gov.br/ontology/Acordao>;\n",
      "                    ?p ?o.\n",
      "            } LIMIT 100\n",
      "    \n",
      "\n",
      "-------------------------------------------------\n",
      "pd1.csv salvo com sucesso!!!\n"
     ]
    }
   ],
   "source": [
    "results = []\n",
    "recurso_classe = []\n",
    "for classe in classes:\n",
    "    query= f\"\"\"\n",
    "            prefix owl: <http://www.w3.org/2002/07/owl#>\n",
    "            prefix rdfs: <http://www.w3.org/2000/01/rdf-schema#>\n",
    "            select * where {{ \n",
    "                ?s a <{classe['uri']}>;\n",
    "                    ?p ?o.\n",
    "            }} LIMIT 100\n",
    "    \"\"\"\n",
    "    t, r = execute(query)\n",
    "    if size(r) > 0:\n",
    "        recurso_classe.append([classe['label'],r['results']['bindings'][0]['s']['value']])\n",
    "    results.append({'tempo':t,'classe':classe['label'],'triplas':size(r)})\n",
    "    \n",
    "pd_1 = pd.DataFrame(results)\n",
    "pd_1.to_csv(\"pd1.csv\",index=False)\n",
    "print(\"pd1.csv salvo com sucesso!!!\")"
   ]
  },
  {
   "cell_type": "markdown",
   "metadata": {},
   "source": [
    "### resultado"
   ]
  },
  {
   "cell_type": "code",
   "execution_count": null,
   "metadata": {},
   "outputs": [
    {
     "data": {
      "text/html": [
       "<div>\n",
       "<style scoped>\n",
       "    .dataframe tbody tr th:only-of-type {\n",
       "        vertical-align: middle;\n",
       "    }\n",
       "\n",
       "    .dataframe tbody tr th {\n",
       "        vertical-align: top;\n",
       "    }\n",
       "\n",
       "    .dataframe thead th {\n",
       "        text-align: right;\n",
       "    }\n",
       "</style>\n",
       "<table border=\"1\" class=\"dataframe\">\n",
       "  <thead>\n",
       "    <tr style=\"text-align: right;\">\n",
       "      <th></th>\n",
       "      <th>tempo</th>\n",
       "      <th>classe</th>\n",
       "      <th>triplas</th>\n",
       "    </tr>\n",
       "  </thead>\n",
       "  <tbody>\n",
       "    <tr>\n",
       "      <th>0</th>\n",
       "      <td>3.437244</td>\n",
       "      <td>Acórdão</td>\n",
       "      <td>100</td>\n",
       "    </tr>\n",
       "  </tbody>\n",
       "</table>\n",
       "</div>"
      ],
      "text/plain": [
       "      tempo   classe  triplas\n",
       "0  3.437244  Acórdão      100"
      ]
     },
     "execution_count": 12,
     "metadata": {},
     "output_type": "execute_result"
    }
   ],
   "source": [
    "pd_1"
   ]
  },
  {
   "cell_type": "markdown",
   "metadata": {},
   "source": [
    "## Recurso específico por classe:"
   ]
  },
  {
   "cell_type": "markdown",
   "metadata": {},
   "source": [
    "### código"
   ]
  },
  {
   "cell_type": "code",
   "execution_count": 17,
   "metadata": {},
   "outputs": [
    {
     "name": "stdout",
     "output_type": "stream",
     "text": [
      "Executando consulta:\n",
      "\n",
      "\n",
      "            prefix owl: <http://www.w3.org/2002/07/owl#>\n",
      "            prefix rdfs: <http://www.w3.org/2000/01/rdf-schema#>\n",
      "            select * where { \n",
      "                <http://www.sefaz.ma.gov.br/resource/Restricoes/Acordao/14769662491-10_05_2017-00371520167> ?p ?o.\n",
      "            } LIMIT 100\n",
      "    \n",
      "\n",
      "-------------------------------------------------\n",
      "pd2.csv salvo com sucesso!!!\n"
     ]
    }
   ],
   "source": [
    "results = []\n",
    "for recurso in recurso_classe:\n",
    "    query= f\"\"\"\n",
    "            prefix owl: <http://www.w3.org/2002/07/owl#>\n",
    "            prefix rdfs: <http://www.w3.org/2000/01/rdf-schema#>\n",
    "            select * where {{ \n",
    "                <{recurso[1]}> ?p ?o.\n",
    "            }} LIMIT 100\n",
    "    \"\"\"\n",
    "    t, r = execute(query)\n",
    "    results.append({'tempo':t,'classe':recurso[0],'triplas':size(r)})\n",
    "    \n",
    "pd_2 = pd.DataFrame(results)\n",
    "pd_2.to_csv(\"pd2.csv\",index=False)\n",
    "print(\"pd2.csv salvo com sucesso!!!\")"
   ]
  },
  {
   "cell_type": "markdown",
   "metadata": {},
   "source": [
    "### Resultado"
   ]
  },
  {
   "cell_type": "code",
   "execution_count": null,
   "metadata": {},
   "outputs": [
    {
     "data": {
      "text/html": [
       "<div>\n",
       "<style scoped>\n",
       "    .dataframe tbody tr th:only-of-type {\n",
       "        vertical-align: middle;\n",
       "    }\n",
       "\n",
       "    .dataframe tbody tr th {\n",
       "        vertical-align: top;\n",
       "    }\n",
       "\n",
       "    .dataframe thead th {\n",
       "        text-align: right;\n",
       "    }\n",
       "</style>\n",
       "<table border=\"1\" class=\"dataframe\">\n",
       "  <thead>\n",
       "    <tr style=\"text-align: right;\">\n",
       "      <th></th>\n",
       "      <th>tempo</th>\n",
       "      <th>classe</th>\n",
       "      <th>triplas</th>\n",
       "    </tr>\n",
       "  </thead>\n",
       "  <tbody>\n",
       "    <tr>\n",
       "      <th>0</th>\n",
       "      <td>0.282697</td>\n",
       "      <td>Acórdão</td>\n",
       "      <td>5</td>\n",
       "    </tr>\n",
       "  </tbody>\n",
       "</table>\n",
       "</div>"
      ],
      "text/plain": [
       "      tempo   classe  triplas\n",
       "0  0.282697  Acórdão        5"
      ]
     },
     "execution_count": 14,
     "metadata": {},
     "output_type": "execute_result"
    }
   ],
   "source": [
    "pd_2"
   ]
  },
  {
   "cell_type": "markdown",
   "metadata": {},
   "source": [
    "## Label para recurso:"
   ]
  },
  {
   "cell_type": "markdown",
   "metadata": {},
   "source": [
    "### código"
   ]
  },
  {
   "cell_type": "code",
   "execution_count": 18,
   "metadata": {},
   "outputs": [
    {
     "name": "stdout",
     "output_type": "stream",
     "text": [
      "Executando consulta:\n",
      "\n",
      "\n",
      "            prefix owl: <http://www.w3.org/2002/07/owl#>\n",
      "            prefix rdfs: <http://www.w3.org/2000/01/rdf-schema#>\n",
      "            select * where { \n",
      "                <http://www.sefaz.ma.gov.br/resource/Restricoes/Acordao/14769662491-10_05_2017-00371520167> rdfs:label ?o.\n",
      "            } LIMIT 100\n",
      "    \n",
      "\n",
      "-------------------------------------------------\n",
      "pd3.csv salvo com sucesso!!!\n"
     ]
    }
   ],
   "source": [
    "results = []\n",
    "for recurso in recurso_classe:\n",
    "    query= f\"\"\"\n",
    "            prefix owl: <http://www.w3.org/2002/07/owl#>\n",
    "            prefix rdfs: <http://www.w3.org/2000/01/rdf-schema#>\n",
    "            select * where {{ \n",
    "                <{recurso[1]}> rdfs:label ?o.\n",
    "            }} LIMIT 100\n",
    "    \"\"\"\n",
    "    \n",
    "    t, r = execute(query)\n",
    "    results.append({'tempo':t,'classe':recurso[0],'triplas':size(r)})\n",
    "    \n",
    "pd_3 = pd.DataFrame(results)\n",
    "pd_3.to_csv(\"pd3.csv\",index=False)\n",
    "print(\"pd3.csv salvo com sucesso!!!\")"
   ]
  },
  {
   "cell_type": "markdown",
   "metadata": {},
   "source": [
    "### resultado"
   ]
  },
  {
   "cell_type": "code",
   "execution_count": null,
   "metadata": {},
   "outputs": [
    {
     "data": {
      "text/html": [
       "<div>\n",
       "<style scoped>\n",
       "    .dataframe tbody tr th:only-of-type {\n",
       "        vertical-align: middle;\n",
       "    }\n",
       "\n",
       "    .dataframe tbody tr th {\n",
       "        vertical-align: top;\n",
       "    }\n",
       "\n",
       "    .dataframe thead th {\n",
       "        text-align: right;\n",
       "    }\n",
       "</style>\n",
       "<table border=\"1\" class=\"dataframe\">\n",
       "  <thead>\n",
       "    <tr style=\"text-align: right;\">\n",
       "      <th></th>\n",
       "      <th>tempo</th>\n",
       "      <th>classe</th>\n",
       "      <th>triplas</th>\n",
       "    </tr>\n",
       "  </thead>\n",
       "  <tbody>\n",
       "    <tr>\n",
       "      <th>0</th>\n",
       "      <td>0.162196</td>\n",
       "      <td>Acórdão</td>\n",
       "      <td>1</td>\n",
       "    </tr>\n",
       "  </tbody>\n",
       "</table>\n",
       "</div>"
      ],
      "text/plain": [
       "      tempo   classe  triplas\n",
       "0  0.162196  Acórdão        1"
      ]
     },
     "execution_count": 16,
     "metadata": {},
     "output_type": "execute_result"
    }
   ],
   "source": [
    "pd_3"
   ]
  },
  {
   "cell_type": "markdown",
   "metadata": {},
   "source": [
    "## Tempo para cada propriedade por classe"
   ]
  },
  {
   "cell_type": "markdown",
   "metadata": {},
   "source": [
    "### código"
   ]
  },
  {
   "cell_type": "code",
   "execution_count": 19,
   "metadata": {},
   "outputs": [
    {
     "name": "stdout",
     "output_type": "stream",
     "text": [
      "Executando consulta:\n",
      "\n",
      "\n",
      "            prefix owl: <http://www.w3.org/2002/07/owl#>\n",
      "            prefix rdfs: <http://www.w3.org/2000/01/rdf-schema#>\n",
      "            select * where { \n",
      "                ?s a <http://www.sefaz.ma.gov.br/ontology/Acordao>;\n",
      "                    <http://www.sefaz.ma.gov.br/ontology/data_final> ?o.\n",
      "            } LIMIT 100\n",
      "        \n",
      "\n",
      "-------------------------------------------------\n",
      "pd4.csv salvo com sucesso!!!\n"
     ]
    }
   ],
   "source": [
    "propriedades = {}\n",
    "results = []\n",
    "for classe in classes:\n",
    "    query= f\"\"\"\n",
    "            prefix owl: <http://www.w3.org/2002/07/owl#>\n",
    "            prefix rdfs: <http://www.w3.org/2000/01/rdf-schema#>\n",
    "            select DISTINCT ?p ?l where {{ \n",
    "                {{\n",
    "                    ?p rdfs:domain <{classe['uri']}>;\n",
    "                    rdfs:label ?l.\n",
    "                }}\n",
    "                UNION{{\n",
    "                    <{classe['uri']}> rdfs:subClassOf [ rdf:type owl:Restriction ; owl:onProperty ?p; owl:someValuesFrom ?r].\n",
    "                    ?p rdfs:label ?l.\n",
    "                }}\n",
    "                UNION{{\n",
    "                    <{classe['uri']}> rdfs:subClassOf [ rdf:type owl:Restriction ; owl:onProperty ?p; owl:allValuesFrom ?r].\n",
    "                    ?p rdfs:label ?l.\n",
    "                }}\n",
    "            }}\n",
    "    \"\"\"\n",
    "    t, r = execute(query,sparql=sparql_ontology)\n",
    "    propriedades[classe['label']] = []\n",
    "    for result in r['results']['bindings']:\n",
    "        propriedades[classe['label']].append([result['l']['value'],result['p']['value']])\n",
    "        p_url = result['p']['value']\n",
    "        query= f\"\"\"\n",
    "            prefix owl: <http://www.w3.org/2002/07/owl#>\n",
    "            prefix rdfs: <http://www.w3.org/2000/01/rdf-schema#>\n",
    "            select * where {{ \n",
    "                ?s a <{classe['uri']}>;\n",
    "                    <{p_url}> ?o.\n",
    "            }} LIMIT 100\n",
    "        \"\"\"\n",
    "        \n",
    "        t, r = execute(query)\n",
    "        results.append({'tempo':t,'classe':classe['label'],'propriedade':result['l']['value'],'triplas':size(r)})\n",
    "    \n",
    "pd_4 = pd.DataFrame(results)\n",
    "pd_4.to_csv(\"pd4.csv\",index=False)\n",
    "print(\"pd4.csv salvo com sucesso!!!\")"
   ]
  },
  {
   "cell_type": "markdown",
   "metadata": {},
   "source": [
    "### resultado"
   ]
  },
  {
   "cell_type": "code",
   "execution_count": null,
   "metadata": {},
   "outputs": [
    {
     "data": {
      "text/html": [
       "<div>\n",
       "<style scoped>\n",
       "    .dataframe tbody tr th:only-of-type {\n",
       "        vertical-align: middle;\n",
       "    }\n",
       "\n",
       "    .dataframe tbody tr th {\n",
       "        vertical-align: top;\n",
       "    }\n",
       "\n",
       "    .dataframe thead th {\n",
       "        text-align: right;\n",
       "    }\n",
       "</style>\n",
       "<table border=\"1\" class=\"dataframe\">\n",
       "  <thead>\n",
       "    <tr style=\"text-align: right;\">\n",
       "      <th></th>\n",
       "      <th>tempo</th>\n",
       "      <th>classe</th>\n",
       "      <th>propriedade</th>\n",
       "      <th>triplas</th>\n",
       "    </tr>\n",
       "  </thead>\n",
       "  <tbody>\n",
       "    <tr>\n",
       "      <th>0</th>\n",
       "      <td>2.574672</td>\n",
       "      <td>Acórdão</td>\n",
       "      <td>data final</td>\n",
       "      <td>0</td>\n",
       "    </tr>\n",
       "  </tbody>\n",
       "</table>\n",
       "</div>"
      ],
      "text/plain": [
       "      tempo   classe propriedade  triplas\n",
       "0  2.574672  Acórdão  data final        0"
      ]
     },
     "execution_count": 18,
     "metadata": {},
     "output_type": "execute_result"
    }
   ],
   "source": [
    "pd_4"
   ]
  },
  {
   "cell_type": "markdown",
   "metadata": {},
   "source": [
    "## Relações de entrada e saída por recurso"
   ]
  },
  {
   "cell_type": "markdown",
   "metadata": {},
   "source": [
    "### código"
   ]
  },
  {
   "cell_type": "code",
   "execution_count": 20,
   "metadata": {},
   "outputs": [
    {
     "name": "stdout",
     "output_type": "stream",
     "text": [
      "Executando consulta:\n",
      "\n",
      "\n",
      "            SELECT * where { \n",
      "                BIND(<http://www.sefaz.ma.gov.br/resource/Restricoes/Acordao/14769662491-10_05_2017-00371520167> as ?node)\n",
      "                {\n",
      "                    ?node ?p ?o .    \n",
      "                    filter(?p != <http://www.w3.org/1999/02/22-rdf-syntax-ns#type>)\n",
      "                    filter(isURI(?o))\n",
      "                }\n",
      "                OPTIONAL{\n",
      "                    ?s ?p2 ?node.\n",
      "                    filter(?p2 != <http://www.w3.org/1999/02/22-rdf-syntax-ns#type>)\n",
      "                    filter(isURI(?s))\n",
      "                }\n",
      "            }\n",
      "    \n",
      "\n",
      "-------------------------------------------------\n",
      "pd5.csv salvo com sucesso!!!\n"
     ]
    }
   ],
   "source": [
    "results = []\n",
    "for recurso in recurso_classe:\n",
    "    query= f\"\"\"\n",
    "            SELECT * where {{ \n",
    "                BIND(<{recurso[1]}> as ?node)\n",
    "                {{\n",
    "                    ?node ?p ?o .    \n",
    "                    filter(?p != <http://www.w3.org/1999/02/22-rdf-syntax-ns#type>)\n",
    "                    filter(isURI(?o))\n",
    "                }}\n",
    "                OPTIONAL{{\n",
    "                    ?s ?p2 ?node.\n",
    "                    filter(?p2 != <http://www.w3.org/1999/02/22-rdf-syntax-ns#type>)\n",
    "                    filter(isURI(?s))\n",
    "                }}\n",
    "            }}\n",
    "    \"\"\"\n",
    "    \n",
    "    t, r = execute(query)\n",
    "    results.append({'tempo':t,'classe':recurso[0],'recurso':recurso[1],'triplas':size(r)})\n",
    "    \n",
    "pd_5 = pd.DataFrame(results)\n",
    "pd_5.to_csv(\"pd5.csv\",index=False)\n",
    "print(\"pd5.csv salvo com sucesso!!!\")"
   ]
  },
  {
   "cell_type": "markdown",
   "metadata": {},
   "source": [
    "### resultado"
   ]
  },
  {
   "cell_type": "code",
   "execution_count": null,
   "metadata": {},
   "outputs": [
    {
     "data": {
      "text/html": [
       "<div>\n",
       "<style scoped>\n",
       "    .dataframe tbody tr th:only-of-type {\n",
       "        vertical-align: middle;\n",
       "    }\n",
       "\n",
       "    .dataframe tbody tr th {\n",
       "        vertical-align: top;\n",
       "    }\n",
       "\n",
       "    .dataframe thead th {\n",
       "        text-align: right;\n",
       "    }\n",
       "</style>\n",
       "<table border=\"1\" class=\"dataframe\">\n",
       "  <thead>\n",
       "    <tr style=\"text-align: right;\">\n",
       "      <th></th>\n",
       "      <th>tempo</th>\n",
       "      <th>classe</th>\n",
       "      <th>recurso</th>\n",
       "      <th>triplas</th>\n",
       "    </tr>\n",
       "  </thead>\n",
       "  <tbody>\n",
       "    <tr>\n",
       "      <th>0</th>\n",
       "      <td>2.417738</td>\n",
       "      <td>Acórdão</td>\n",
       "      <td>http://www.sefaz.ma.gov.br/resource/Restricoes...</td>\n",
       "      <td>1</td>\n",
       "    </tr>\n",
       "  </tbody>\n",
       "</table>\n",
       "</div>"
      ],
      "text/plain": [
       "      tempo   classe                                            recurso  \\\n",
       "0  2.417738  Acórdão  http://www.sefaz.ma.gov.br/resource/Restricoes...   \n",
       "\n",
       "   triplas  \n",
       "0        1  "
      ]
     },
     "execution_count": 23,
     "metadata": {},
     "output_type": "execute_result"
    }
   ],
   "source": [
    "pd_5"
   ]
  },
  {
   "cell_type": "markdown",
   "metadata": {},
   "source": [
    "## Cadeia de 2 relações por recurso"
   ]
  },
  {
   "cell_type": "markdown",
   "metadata": {},
   "source": [
    "### código"
   ]
  },
  {
   "cell_type": "code",
   "execution_count": 21,
   "metadata": {},
   "outputs": [
    {
     "name": "stdout",
     "output_type": "stream",
     "text": [
      "Executando consulta:\n",
      "\n",
      "\n",
      "            SELECT * where { \n",
      "                BIND(<http://www.sefaz.ma.gov.br/resource/Restricoes/Acordao/14769662491-10_05_2017-00371520167> as ?node)  \n",
      "                ?node ?p ?o .    \n",
      "                filter(?p != <http://www.w3.org/1999/02/22-rdf-syntax-ns#type>)\n",
      "                filter(isURI(?o))\n",
      "                ?o ?p3 ?o2.\n",
      "                filter(?p3 != <http://www.w3.org/1999/02/22-rdf-syntax-ns#type>)\n",
      "                filter(isURI(?o2))\n",
      "            }\n",
      "    \n",
      "\n",
      "-------------------------------------------------\n",
      "pd6.csv salvo com sucesso!!!\n"
     ]
    }
   ],
   "source": [
    "results = []\n",
    "for recurso in recurso_classe:\n",
    "    query= f\"\"\"\n",
    "            SELECT * where {{ \n",
    "                BIND(<{recurso[1]}> as ?node)  \n",
    "                ?node ?p ?o .    \n",
    "                filter(?p != <http://www.w3.org/1999/02/22-rdf-syntax-ns#type>)\n",
    "                filter(isURI(?o))\n",
    "                ?o ?p3 ?o2.\n",
    "                filter(?p3 != <http://www.w3.org/1999/02/22-rdf-syntax-ns#type>)\n",
    "                filter(isURI(?o2))\n",
    "            }}\n",
    "    \"\"\"\n",
    "    \n",
    "    t, r = execute(query)\n",
    "    results.append({'tempo':t,'classe':recurso[0],'recurso':recurso[1],'triplas':size(r)})\n",
    "pd_6 = pd.DataFrame(results)\n",
    "pd_6.to_csv(\"pd6.csv\",index=False)\n",
    "print(\"pd6.csv salvo com sucesso!!!\")"
   ]
  },
  {
   "cell_type": "markdown",
   "metadata": {},
   "source": [
    "### resultado"
   ]
  },
  {
   "cell_type": "code",
   "execution_count": null,
   "metadata": {},
   "outputs": [
    {
     "data": {
      "text/html": [
       "<div>\n",
       "<style scoped>\n",
       "    .dataframe tbody tr th:only-of-type {\n",
       "        vertical-align: middle;\n",
       "    }\n",
       "\n",
       "    .dataframe tbody tr th {\n",
       "        vertical-align: top;\n",
       "    }\n",
       "\n",
       "    .dataframe thead th {\n",
       "        text-align: right;\n",
       "    }\n",
       "</style>\n",
       "<table border=\"1\" class=\"dataframe\">\n",
       "  <thead>\n",
       "    <tr style=\"text-align: right;\">\n",
       "      <th></th>\n",
       "      <th>tempo</th>\n",
       "      <th>classe</th>\n",
       "      <th>recurso</th>\n",
       "      <th>triplas</th>\n",
       "    </tr>\n",
       "  </thead>\n",
       "  <tbody>\n",
       "    <tr>\n",
       "      <th>0</th>\n",
       "      <td>1.1797</td>\n",
       "      <td>Acórdão</td>\n",
       "      <td>http://www.sefaz.ma.gov.br/resource/Restricoes...</td>\n",
       "      <td>1</td>\n",
       "    </tr>\n",
       "  </tbody>\n",
       "</table>\n",
       "</div>"
      ],
      "text/plain": [
       "    tempo   classe                                            recurso  triplas\n",
       "0  1.1797  Acórdão  http://www.sefaz.ma.gov.br/resource/Restricoes...        1"
      ]
     },
     "execution_count": 26,
     "metadata": {},
     "output_type": "execute_result"
    }
   ],
   "source": [
    "pd_6"
   ]
  },
  {
   "cell_type": "markdown",
   "metadata": {},
   "source": [
    "## Pega atributos de recursos"
   ]
  },
  {
   "cell_type": "markdown",
   "metadata": {},
   "source": [
    "## código"
   ]
  },
  {
   "cell_type": "code",
   "execution_count": 22,
   "metadata": {},
   "outputs": [
    {
     "name": "stdout",
     "output_type": "stream",
     "text": [
      "Executando consulta:\n",
      "\n",
      "\n",
      "\n",
      "            PREFIX rdfs: <http://www.w3.org/2000/01/rdf-schema#>\n",
      "            SELECT ?node ?property ?value WHERE{\n",
      "                BIND(<http://www.sefaz.ma.gov.br/resource/Restricoes/Acordao/14769662491-10_05_2017-00371520167> as ?node)  \n",
      "                ?node ?property_ ?value\n",
      "                FILTER(!isURI(?value))\n",
      "                BIND((REPLACE(STR(?property_),\".*(/|#)\",\"\")) as ?property)\n",
      "            }\n",
      "    \n",
      "\n",
      "-------------------------------------------------\n",
      "pd7.csv salvo com sucesso!!!\n"
     ]
    }
   ],
   "source": [
    "results = []\n",
    "for recurso in recurso_classe:\n",
    "    query= f\"\"\"\n",
    "\n",
    "            PREFIX rdfs: <http://www.w3.org/2000/01/rdf-schema#>\n",
    "            SELECT ?node ?property ?value WHERE{{\n",
    "                BIND(<{recurso[1]}> as ?node)  \n",
    "                ?node ?property_ ?value\n",
    "                FILTER(!isURI(?value))\n",
    "                BIND((REPLACE(STR(?property_),\".*(/|#)\",\"\")) as ?property)\n",
    "            }}\n",
    "    \"\"\"\n",
    "    \n",
    "    t, r = execute(query)\n",
    "    results.append({'tempo':t,'classe':recurso[0],'recurso':recurso[1],'triplas':size(r)})\n",
    "pd_7 = pd.DataFrame(results)\n",
    "pd_7.to_csv(\"pd7.csv\",index=False)\n",
    "print(\"pd7.csv salvo com sucesso!!!\")"
   ]
  },
  {
   "cell_type": "markdown",
   "metadata": {},
   "source": [
    "### resultado"
   ]
  },
  {
   "cell_type": "code",
   "execution_count": null,
   "metadata": {},
   "outputs": [
    {
     "data": {
      "text/html": [
       "<div>\n",
       "<style scoped>\n",
       "    .dataframe tbody tr th:only-of-type {\n",
       "        vertical-align: middle;\n",
       "    }\n",
       "\n",
       "    .dataframe tbody tr th {\n",
       "        vertical-align: top;\n",
       "    }\n",
       "\n",
       "    .dataframe thead th {\n",
       "        text-align: right;\n",
       "    }\n",
       "</style>\n",
       "<table border=\"1\" class=\"dataframe\">\n",
       "  <thead>\n",
       "    <tr style=\"text-align: right;\">\n",
       "      <th></th>\n",
       "      <th>tempo</th>\n",
       "      <th>classe</th>\n",
       "      <th>recurso</th>\n",
       "      <th>triplas</th>\n",
       "    </tr>\n",
       "  </thead>\n",
       "  <tbody>\n",
       "    <tr>\n",
       "      <th>0</th>\n",
       "      <td>0.773208</td>\n",
       "      <td>Acórdão</td>\n",
       "      <td>http://www.sefaz.ma.gov.br/resource/Restricoes...</td>\n",
       "      <td>3</td>\n",
       "    </tr>\n",
       "  </tbody>\n",
       "</table>\n",
       "</div>"
      ],
      "text/plain": [
       "      tempo   classe                                            recurso  \\\n",
       "0  0.773208  Acórdão  http://www.sefaz.ma.gov.br/resource/Restricoes...   \n",
       "\n",
       "   triplas  \n",
       "0        3  "
      ]
     },
     "execution_count": 28,
     "metadata": {},
     "output_type": "execute_result"
    }
   ],
   "source": [
    "pd_7"
   ]
  }
 ],
 "metadata": {
  "interpreter": {
   "hash": "c1202d1414bc2129bb3bd955f9f4a76620d64f935936356d2f69a5c5335b3fff"
  },
  "kernelspec": {
   "display_name": "Python 3.9.7 ('base')",
   "language": "python",
   "name": "python3"
  },
  "language_info": {
   "codemirror_mode": {
    "name": "ipython",
    "version": 3
   },
   "file_extension": ".py",
   "mimetype": "text/x-python",
   "name": "python",
   "nbconvert_exporter": "python",
   "pygments_lexer": "ipython3",
   "version": "3.9.7"
  },
  "orig_nbformat": 4
 },
 "nbformat": 4,
 "nbformat_minor": 2
}
